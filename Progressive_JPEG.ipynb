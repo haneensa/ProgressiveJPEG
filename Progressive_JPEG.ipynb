{
 "cells": [
  {
   "cell_type": "code",
   "execution_count": 9,
   "metadata": {},
   "outputs": [],
   "source": [
    "from PIL import ImageFile  # pip install Pillow\n",
    "ImageFile.LOAD_TRUNCATED_IMAGES = True\n",
    "import cStringIO\n",
    "from PIL import Image\n",
    "import ssim # pip install pyssim\n",
    "import base64\n",
    "import io \n",
    "import struct\n",
    "import math\n",
    "\n",
    "def get_image(data):\n",
    "    photo_b64 = base64.b64encode(bytearray(data))\n",
    "    msg = base64.b64decode(photo_b64)\n",
    "    buf = io.BytesIO(msg)\n",
    "    return Image.open(buf)\n",
    "    \n",
    "def showImage(block, h, w):\n",
    "    img = get_image(block)\n",
    "    img = img.resize((w, h))\n",
    "   \n",
    "    img.show()\n",
    "    \n",
    "    return img\n",
    "def compute_similarity(img1, img2):\n",
    "    return ssim.compute_ssim(img1, img2)\n",
    "\n",
    "def create_blocks(image_name, blocksize):\n",
    "    blocks = []\n",
    "    with open(image_name, \"rb\") as imageFile:\n",
    "        bfile = imageFile.read()\n",
    "        nblocks = int( math.ceil( len(bfile) / float(blocksize) ) )\n",
    "        for i in range(nblocks):\n",
    "            left = i * blocksize\n",
    "            right = (i + 1) * blocksize\n",
    "            block = bfile[left: right]\n",
    "            blocks.append(block)\n",
    "    return blocks\n",
    "\n",
    "img_fname =\"progressive.jpg\"\n",
    "blocksize = 20*1024 # create blocks from img where each of size 'blocksize'\n",
    "\n",
    "blocks = create_blocks(img_fname, blocksize)\n",
    "original_img = \"\".join(blocks)\n",
    "img1 = get_image(original_img)"
   ]
  },
  {
   "cell_type": "code",
   "execution_count": 14,
   "metadata": {},
   "outputs": [],
   "source": [
    "\n",
    "# how many blocks to include\n",
    "prefix = 1 #TODO: change this from 1 to len(blocks)-1 to see how each block improves quality\n",
    "reconstruct_img = \"\".join(blocks[0:prefix])\n",
    "h = 1000\n",
    "w = 1000\n",
    "img = showImage(reconstruct_img, h, w)\n",
    "#img.save(\"img_prefix_%s.jpg\" %prefix)"
   ]
  },
  {
   "cell_type": "code",
   "execution_count": 11,
   "metadata": {},
   "outputs": [
    {
     "name": "stdout",
     "output_type": "stream",
     "text": [
      "Utility of 50 blocks is 0.2668643891894209\n"
     ]
    }
   ],
   "source": [
    "# To get the utility of incrementing the prefix value, we use  Structural Similarity Index (SSIM)    \n",
    "\n",
    "img2 = get_image(reconstruct_img)\n",
    "# TODO: as you change the prefix value, see how the utility changes\n",
    "utility = compute_similarity(img1, img2)\n",
    "print(\"Utility of %s blocks is %s\" % (prefix, utility) )"
   ]
  },
  {
   "cell_type": "code",
   "execution_count": null,
   "metadata": {},
   "outputs": [],
   "source": []
  }
 ],
 "metadata": {
  "kernelspec": {
   "display_name": "Python 2",
   "language": "python",
   "name": "python2"
  },
  "language_info": {
   "codemirror_mode": {
    "name": "ipython",
    "version": 2
   },
   "file_extension": ".py",
   "mimetype": "text/x-python",
   "name": "python",
   "nbconvert_exporter": "python",
   "pygments_lexer": "ipython2",
   "version": "2.7.12"
  }
 },
 "nbformat": 4,
 "nbformat_minor": 2
}
